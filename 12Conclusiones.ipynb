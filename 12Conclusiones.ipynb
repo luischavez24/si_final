{
 "cells": [
  {
   "cell_type": "markdown",
   "metadata": {},
   "source": [
    "# Conclusiones\n",
    "Después de realizar los 8 algorítmos propuestos podemos resumir la precision de cada uno en el siguiente dataframe"
   ]
  },
  {
   "cell_type": "code",
   "execution_count": 6,
   "metadata": {},
   "outputs": [],
   "source": [
    "import pandas as pd\n",
    "import matplotlib.pyplot as plt\n",
    "import seaborn as sns\n",
    "plt.rcParams['figure.figsize'] = [20, 7]"
   ]
  },
  {
   "cell_type": "code",
   "execution_count": 7,
   "metadata": {},
   "outputs": [
    {
     "data": {
      "text/html": [
       "<div>\n",
       "<style scoped>\n",
       "    .dataframe tbody tr th:only-of-type {\n",
       "        vertical-align: middle;\n",
       "    }\n",
       "\n",
       "    .dataframe tbody tr th {\n",
       "        vertical-align: top;\n",
       "    }\n",
       "\n",
       "    .dataframe thead th {\n",
       "        text-align: right;\n",
       "    }\n",
       "</style>\n",
       "<table border=\"1\" class=\"dataframe\">\n",
       "  <thead>\n",
       "    <tr style=\"text-align: right;\">\n",
       "      <th></th>\n",
       "      <th>Modelo</th>\n",
       "      <th>Severidad</th>\n",
       "      <th>Precisión</th>\n",
       "    </tr>\n",
       "  </thead>\n",
       "  <tbody>\n",
       "    <tr>\n",
       "      <th>0</th>\n",
       "      <td>Árbol de decisión</td>\n",
       "      <td>Benigno</td>\n",
       "      <td>76</td>\n",
       "    </tr>\n",
       "    <tr>\n",
       "      <th>1</th>\n",
       "      <td>Árbol de decisión</td>\n",
       "      <td>Maligno</td>\n",
       "      <td>73</td>\n",
       "    </tr>\n",
       "    <tr>\n",
       "      <th>2</th>\n",
       "      <td>Bosques aleatorios</td>\n",
       "      <td>Benigno</td>\n",
       "      <td>80</td>\n",
       "    </tr>\n",
       "    <tr>\n",
       "      <th>3</th>\n",
       "      <td>Bosques aleatorios</td>\n",
       "      <td>Maligno</td>\n",
       "      <td>75</td>\n",
       "    </tr>\n",
       "    <tr>\n",
       "      <th>4</th>\n",
       "      <td>KNN (k=25)</td>\n",
       "      <td>Benigno</td>\n",
       "      <td>86</td>\n",
       "    </tr>\n",
       "    <tr>\n",
       "      <th>5</th>\n",
       "      <td>KNN (k=25)</td>\n",
       "      <td>Maligno</td>\n",
       "      <td>72</td>\n",
       "    </tr>\n",
       "    <tr>\n",
       "      <th>6</th>\n",
       "      <td>KNN (k=10)</td>\n",
       "      <td>Benigno</td>\n",
       "      <td>76</td>\n",
       "    </tr>\n",
       "    <tr>\n",
       "      <th>7</th>\n",
       "      <td>KNN (k=10)</td>\n",
       "      <td>Maligno</td>\n",
       "      <td>74</td>\n",
       "    </tr>\n",
       "    <tr>\n",
       "      <th>8</th>\n",
       "      <td>SVM (Sin GridSearch)</td>\n",
       "      <td>Benigno</td>\n",
       "      <td>87</td>\n",
       "    </tr>\n",
       "    <tr>\n",
       "      <th>9</th>\n",
       "      <td>SVM (Sin GridSearch)</td>\n",
       "      <td>Maligno</td>\n",
       "      <td>73</td>\n",
       "    </tr>\n",
       "    <tr>\n",
       "      <th>10</th>\n",
       "      <td>SVM (Con GridSearch)</td>\n",
       "      <td>Benigno</td>\n",
       "      <td>86</td>\n",
       "    </tr>\n",
       "    <tr>\n",
       "      <th>11</th>\n",
       "      <td>SVM (Con GridSearch)</td>\n",
       "      <td>Maligno</td>\n",
       "      <td>72</td>\n",
       "    </tr>\n",
       "    <tr>\n",
       "      <th>12</th>\n",
       "      <td>SVM (K Fold)</td>\n",
       "      <td>Benigno</td>\n",
       "      <td>85</td>\n",
       "    </tr>\n",
       "    <tr>\n",
       "      <th>13</th>\n",
       "      <td>SVM (K Fold)</td>\n",
       "      <td>Maligno</td>\n",
       "      <td>88</td>\n",
       "    </tr>\n",
       "    <tr>\n",
       "      <th>14</th>\n",
       "      <td>Regresión Logística</td>\n",
       "      <td>Benigno</td>\n",
       "      <td>84</td>\n",
       "    </tr>\n",
       "    <tr>\n",
       "      <th>15</th>\n",
       "      <td>Regresión Logística</td>\n",
       "      <td>Maligno</td>\n",
       "      <td>76</td>\n",
       "    </tr>\n",
       "    <tr>\n",
       "      <th>16</th>\n",
       "      <td>Naive Bayes</td>\n",
       "      <td>Benigno</td>\n",
       "      <td>81</td>\n",
       "    </tr>\n",
       "    <tr>\n",
       "      <th>17</th>\n",
       "      <td>Naive Bayes</td>\n",
       "      <td>Maligno</td>\n",
       "      <td>71</td>\n",
       "    </tr>\n",
       "    <tr>\n",
       "      <th>18</th>\n",
       "      <td>Red neuronal con Keras</td>\n",
       "      <td>Benigno</td>\n",
       "      <td>85</td>\n",
       "    </tr>\n",
       "    <tr>\n",
       "      <th>19</th>\n",
       "      <td>Red neuronal con Keras</td>\n",
       "      <td>Maligno</td>\n",
       "      <td>77</td>\n",
       "    </tr>\n",
       "  </tbody>\n",
       "</table>\n",
       "</div>"
      ],
      "text/plain": [
       "                    Modelo Severidad  Precisión\n",
       "0        Árbol de decisión   Benigno         76\n",
       "1        Árbol de decisión   Maligno         73\n",
       "2       Bosques aleatorios   Benigno         80\n",
       "3       Bosques aleatorios   Maligno         75\n",
       "4               KNN (k=25)   Benigno         86\n",
       "5               KNN (k=25)   Maligno         72\n",
       "6               KNN (k=10)   Benigno         76\n",
       "7               KNN (k=10)   Maligno         74\n",
       "8     SVM (Sin GridSearch)   Benigno         87\n",
       "9     SVM (Sin GridSearch)   Maligno         73\n",
       "10    SVM (Con GridSearch)   Benigno         86\n",
       "11    SVM (Con GridSearch)   Maligno         72\n",
       "12            SVM (K Fold)   Benigno         85\n",
       "13            SVM (K Fold)   Maligno         88\n",
       "14     Regresión Logística   Benigno         84\n",
       "15     Regresión Logística   Maligno         76\n",
       "16             Naive Bayes   Benigno         81\n",
       "17             Naive Bayes   Maligno         71\n",
       "18  Red neuronal con Keras   Benigno         85\n",
       "19  Red neuronal con Keras   Maligno         77"
      ]
     },
     "execution_count": 7,
     "metadata": {},
     "output_type": "execute_result"
    }
   ],
   "source": [
    "classification_report_all = pd.read_csv('classification_report_all.csv')\n",
    "classification_report_all"
   ]
  },
  {
   "cell_type": "code",
   "execution_count": 8,
   "metadata": {},
   "outputs": [
    {
     "data": {
      "image/png": "[encoded data removed]",
      "text/plain": [
       "<Figure size 1440x504 with 1 Axes>"
      ]
     },
     "metadata": {
      "needs_background": "light"
     },
     "output_type": "display_data"
    }
   ],
   "source": [
    "cr_bars = sns.barplot(x=\"Modelo\", y=\"Precisión\", hue='Severidad', \n",
    "            data=classification_report_all, palette='muted')"
   ]
  },
  {
   "cell_type": "code",
   "execution_count": 9,
   "metadata": {},
   "outputs": [],
   "source": [
    "cr_bars.get_figure().savefig(\"classification_report_bars.png\")"
   ]
  },
  {
   "cell_type": "markdown",
   "metadata": {},
   "source": [
    "## Análisis\n",
    "Por el gráfico mostrado podemos concluir que el algoritmo que da el mejor resultado es el de la SVM con K Fold  y seguido muy de cerca por la Red Neuronal con Keras"
   ]
  }
 ],
 "metadata": {
  "kernelspec": {
   "display_name": "Python 3",
   "language": "python",
   "name": "python3"
  },
  "language_info": {
   "codemirror_mode": {
    "name": "ipython",
    "version": 3
   },
   "file_extension": ".py",
   "mimetype": "text/x-python",
   "name": "python",
   "nbconvert_exporter": "python",
   "pygments_lexer": "ipython3",
   "version": "3.7.2"
  }
 },
 "nbformat": 4,
 "nbformat_minor": 2
}
