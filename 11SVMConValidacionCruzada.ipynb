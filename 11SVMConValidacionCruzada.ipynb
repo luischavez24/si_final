{
 "cells": [
  {
   "cell_type": "markdown",
   "metadata": {},
   "source": [
    "# SVM con validación cruzada K-Fold\n",
    "\n",
    "## Importación de Librerias"
   ]
  },
  {
   "cell_type": "code",
   "execution_count": 5,
   "metadata": {},
   "outputs": [],
   "source": [
    "import pandas as pd\n",
    "import numpy as np\n",
    "import matplotlib.pyplot as plt\n",
    "import seaborn as sns\n",
    "%matplotlib inline"
   ]
  },
  {
   "cell_type": "markdown",
   "metadata": {},
   "source": [
    "## Obteniendo los datos"
   ]
  },
  {
   "cell_type": "code",
   "execution_count": 6,
   "metadata": {},
   "outputs": [],
   "source": [
    "mammographic_masses = pd.read_csv('./processed/mammographic_masses_standard.csv')"
   ]
  },
  {
   "cell_type": "code",
   "execution_count": 12,
   "metadata": {},
   "outputs": [
    {
     "data": {
      "text/html": [
       "<div>\n",
       "<style scoped>\n",
       "    .dataframe tbody tr th:only-of-type {\n",
       "        vertical-align: middle;\n",
       "    }\n",
       "\n",
       "    .dataframe tbody tr th {\n",
       "        vertical-align: top;\n",
       "    }\n",
       "\n",
       "    .dataframe thead th {\n",
       "        text-align: right;\n",
       "    }\n",
       "</style>\n",
       "<table border=\"1\" class=\"dataframe\">\n",
       "  <thead>\n",
       "    <tr style=\"text-align: right;\">\n",
       "      <th></th>\n",
       "      <th>Age</th>\n",
       "      <th>Shape</th>\n",
       "      <th>Margin</th>\n",
       "      <th>Density</th>\n",
       "      <th>Severity</th>\n",
       "    </tr>\n",
       "  </thead>\n",
       "  <tbody>\n",
       "    <tr>\n",
       "      <th>0</th>\n",
       "      <td>0.765804</td>\n",
       "      <td>0.174460</td>\n",
       "      <td>1.395631</td>\n",
       "      <td>0.240313</td>\n",
       "      <td>1</td>\n",
       "    </tr>\n",
       "    <tr>\n",
       "      <th>1</th>\n",
       "      <td>0.151666</td>\n",
       "      <td>0.979883</td>\n",
       "      <td>1.395631</td>\n",
       "      <td>0.240313</td>\n",
       "      <td>1</td>\n",
       "    </tr>\n",
       "    <tr>\n",
       "      <th>2</th>\n",
       "      <td>-1.895458</td>\n",
       "      <td>-1.436386</td>\n",
       "      <td>-1.158927</td>\n",
       "      <td>0.240313</td>\n",
       "      <td>0</td>\n",
       "    </tr>\n",
       "    <tr>\n",
       "      <th>3</th>\n",
       "      <td>0.083429</td>\n",
       "      <td>-1.436386</td>\n",
       "      <td>1.395631</td>\n",
       "      <td>0.240313</td>\n",
       "      <td>1</td>\n",
       "    </tr>\n",
       "    <tr>\n",
       "      <th>4</th>\n",
       "      <td>1.379941</td>\n",
       "      <td>-1.436386</td>\n",
       "      <td>0.756992</td>\n",
       "      <td>0.240313</td>\n",
       "      <td>1</td>\n",
       "    </tr>\n",
       "  </tbody>\n",
       "</table>\n",
       "</div>"
      ],
      "text/plain": [
       "        Age     Shape    Margin   Density  Severity\n",
       "0  0.765804  0.174460  1.395631  0.240313         1\n",
       "1  0.151666  0.979883  1.395631  0.240313         1\n",
       "2 -1.895458 -1.436386 -1.158927  0.240313         0\n",
       "3  0.083429 -1.436386  1.395631  0.240313         1\n",
       "4  1.379941 -1.436386  0.756992  0.240313         1"
      ]
     },
     "execution_count": 12,
     "metadata": {},
     "output_type": "execute_result"
    }
   ],
   "source": [
    "mammographic_masses.head()"
   ]
  },
  {
   "cell_type": "code",
   "execution_count": 106,
   "metadata": {},
   "outputs": [
    {
     "name": "stdout",
     "output_type": "stream",
     "text": [
      "<class 'pandas.core.frame.DataFrame'>\n",
      "RangeIndex: 831 entries, 0 to 830\n",
      "Data columns (total 5 columns):\n",
      "Age         831 non-null float64\n",
      "Shape       831 non-null float64\n",
      "Margin      831 non-null float64\n",
      "Density     831 non-null float64\n",
      "Severity    831 non-null int64\n",
      "dtypes: float64(4), int64(1)\n",
      "memory usage: 32.5 KB\n"
     ]
    }
   ],
   "source": [
    "mammographic_masses.info()"
   ]
  },
  {
   "cell_type": "markdown",
   "metadata": {},
   "source": [
    "## Construyendo las matrices"
   ]
  },
  {
   "cell_type": "code",
   "execution_count": 14,
   "metadata": {},
   "outputs": [
    {
     "data": {
      "text/plain": [
       "array([[ 0.76580356,  0.17445989,  1.39563127,  0.24031298],\n",
       "       [ 0.15166622,  0.97988304,  1.39563127,  0.24031298],\n",
       "       [-1.89545824, -1.43638642, -1.15892729,  0.24031298],\n",
       "       ...,\n",
       "       [ 0.56109111,  0.97988304,  1.39563127,  0.24031298],\n",
       "       [ 0.69756608,  0.97988304,  1.39563127,  0.24031298],\n",
       "       [ 0.42461615,  0.17445989,  0.11835199,  0.24031298]])"
      ]
     },
     "execution_count": 14,
     "metadata": {},
     "output_type": "execute_result"
    }
   ],
   "source": [
    "X = mammographic_masses.iloc[:,0:4].values\n",
    "y = mammographic_masses.iloc[:,4].values\n",
    "X"
   ]
  },
  {
   "cell_type": "markdown",
   "metadata": {},
   "source": [
    "## Entrenar el clasificador con Vectores de Soporte"
   ]
  },
  {
   "cell_type": "code",
   "execution_count": 47,
   "metadata": {},
   "outputs": [],
   "source": [
    "from sklearn.svm import SVC\n",
    "from sklearn.metrics import accuracy_score"
   ]
  },
  {
   "cell_type": "code",
   "execution_count": 60,
   "metadata": {},
   "outputs": [],
   "source": [
    "model = SVC(gamma = 1)"
   ]
  },
  {
   "cell_type": "markdown",
   "metadata": {},
   "source": [
    "## Validación Cruzada KFold\n",
    "\n",
    "La solución a este problema es usar la validación cruzada K-Fold para la evaluación del desempeño, donde K es cualquier número. El proceso de validación cruzada K-Fold es sencillo. Se dividen los datos en K pliegues. De los pliegues K, los conjuntos K-1 se usan para entrenamiento mientras que el resto se usa para pruebas. El algoritmo se entrena y se prueba K veces, cada vez que se utiliza un nuevo conjunto como conjunto de prueba, mientras que los conjuntos restantes se utilizan para el entrenamiento. Finalmente, el resultado de la validación cruzada K-Fold es el promedio de los resultados obtenidos en cada conjunto."
   ]
  },
  {
   "cell_type": "code",
   "execution_count": 61,
   "metadata": {},
   "outputs": [],
   "source": [
    "from sklearn.model_selection import KFold"
   ]
  },
  {
   "cell_type": "code",
   "execution_count": 62,
   "metadata": {},
   "outputs": [],
   "source": [
    "kf = KFold(n_splits=10)"
   ]
  },
  {
   "cell_type": "code",
   "execution_count": 80,
   "metadata": {},
   "outputs": [
    {
     "name": "stdout",
     "output_type": "stream",
     "text": [
      "Iteración 1\n",
      "0.75\n",
      "Iteración 2\n",
      "0.7469879518072289\n",
      "Iteración 3\n",
      "0.8313253012048193\n",
      "Iteración 4\n",
      "0.8072289156626506\n",
      "Iteración 5\n",
      "0.8674698795180723\n",
      "Iteración 6\n",
      "0.7469879518072289\n",
      "Iteración 7\n",
      "0.7951807228915663\n",
      "Iteración 8\n",
      "0.8433734939759037\n",
      "Iteración 9\n",
      "0.8313253012048193\n",
      "Iteración 10\n",
      "0.7228915662650602\n"
     ]
    }
   ],
   "source": [
    "i=1\n",
    "accuracy = 0\n",
    "\n",
    "for train_index, test_index in kf.split(X):\n",
    "    print(\"Iteración\", i)\n",
    "    X_train, X_test = X[train_index], X[test_index]\n",
    "    y_train, y_test = y[train_index], y[test_index]\n",
    "    model.fit(X_train,y_train)\n",
    "    predictions = model.predict(X_test)\n",
    "    print(accuracy_score(y_test, predictions))\n",
    "    if(accuracy_score(y_test, predictions)>accuracy):\n",
    "        accuracy = accuracy_score(y_test, predictions)\n",
    "        final_prediction = predictions\n",
    "        final_y_test = y_test\n",
    "    i+=1"
   ]
  },
  {
   "cell_type": "code",
   "execution_count": 84,
   "metadata": {},
   "outputs": [
    {
     "name": "stdout",
     "output_type": "stream",
     "text": [
      "Datos de prediccion Iteración 5:  [1 0 1 1 0 0 1 0 1 1 1 1 1 0 1 1 0 0 1 1 1 0 1 1 1 0 0 0 1 1 1 0 1 0 0 1 1\n",
      " 0 1 0 1 0 0 0 0 0 1 0 1 0 0 0 0 0 0 0 1 1 1 1 0 1 1 0 1 1 0 0 0 0 0 0 1 1\n",
      " 1 0 0 1 1 1 0 0 1]\n",
      "Datos de prueba Iteración 5:  [0 1 0 1 1 0 1 0 1 1 1 1 1 0 1 1 1 0 1 1 0 0 1 1 1 0 0 0 1 1 1 0 1 0 0 1 1\n",
      " 0 1 0 1 0 0 0 0 0 1 0 1 0 0 0 0 0 0 1 1 0 1 1 1 1 1 0 0 1 0 0 0 0 0 1 1 1\n",
      " 1 0 0 1 1 1 0 0 1]\n"
     ]
    }
   ],
   "source": [
    "print(\"Datos de prediccion Iteración 5: \",final_prediction)\n",
    "print(\"Datos de prueba Iteración 5: \",final_y_test)"
   ]
  },
  {
   "cell_type": "markdown",
   "metadata": {},
   "source": [
    "## Predicciones y evaluaciones\n",
    "\n",
    "Ahora vamos a predecir haciendo uso del modelo entrenado."
   ]
  },
  {
   "cell_type": "code",
   "execution_count": 81,
   "metadata": {},
   "outputs": [],
   "source": [
    "from sklearn.metrics import classification_report,confusion_matrix"
   ]
  },
  {
   "cell_type": "code",
   "execution_count": 82,
   "metadata": {},
   "outputs": [
    {
     "name": "stdout",
     "output_type": "stream",
     "text": [
      "[[35  5]\n",
      " [ 6 37]]\n"
     ]
    }
   ],
   "source": [
    "print(confusion_matrix(final_y_test,final_prediction))"
   ]
  },
  {
   "cell_type": "code",
   "execution_count": 83,
   "metadata": {
    "scrolled": true
   },
   "outputs": [
    {
     "name": "stdout",
     "output_type": "stream",
     "text": [
      "              precision    recall  f1-score   support\n",
      "\n",
      "           0       0.85      0.88      0.86        40\n",
      "           1       0.88      0.86      0.87        43\n",
      "\n",
      "   micro avg       0.87      0.87      0.87        83\n",
      "   macro avg       0.87      0.87      0.87        83\n",
      "weighted avg       0.87      0.87      0.87        83\n",
      "\n"
     ]
    }
   ],
   "source": [
    "print(classification_report(final_y_test,final_prediction))"
   ]
  }
 ],
 "metadata": {
  "kernelspec": {
   "display_name": "Python 3",
   "language": "python",
   "name": "python3"
  },
  "language_info": {
   "codemirror_mode": {
    "name": "ipython",
    "version": 3
   },
   "file_extension": ".py",
   "mimetype": "text/x-python",
   "name": "python",
   "nbconvert_exporter": "python",
   "pygments_lexer": "ipython3",
   "version": "3.6.8"
  }
 },
 "nbformat": 4,
 "nbformat_minor": 2
}
