{
 "cells": [
  {
   "cell_type": "markdown",
   "metadata": {},
   "source": [
    "## Instalación de librerías Tensorflow y Keras\n",
    "Previamente debemos de ejecutar los siguientes comandos en Anaconda Prompt:\n",
    "* \t```conda install tensorflow\t```\n",
    "* \t```conda install keras\t```\n",
    "\n",
    "El análisis se realizara con Keras pero necesitamos Tensorflow ya que Keras esta creada en base a Tensorflow."
   ]
  },
  {
   "cell_type": "markdown",
   "metadata": {},
   "source": [
    "## Importando las librerías"
   ]
  },
  {
   "cell_type": "code",
   "execution_count": 1,
   "metadata": {},
   "outputs": [],
   "source": [
    "import pandas as pd\n",
    "import numpy as np\n",
    "import matplotlib.pyplot as plt\n",
    "import seaborn as sns"
   ]
  },
  {
   "cell_type": "markdown",
   "metadata": {},
   "source": [
    "## Obteniendo datos\n",
    "Importamos los datos limpios que han sido tratados anteriormente."
   ]
  },
  {
   "cell_type": "code",
   "execution_count": 2,
   "metadata": {},
   "outputs": [],
   "source": [
    "mammographic_masses = pd.read_csv('../processed/mammographic_masses_clean.csv')"
   ]
  },
  {
   "cell_type": "code",
   "execution_count": 23,
   "metadata": {},
   "outputs": [
    {
     "data": {
      "text/html": [
       "<div>\n",
       "<style scoped>\n",
       "    .dataframe tbody tr th:only-of-type {\n",
       "        vertical-align: middle;\n",
       "    }\n",
       "\n",
       "    .dataframe tbody tr th {\n",
       "        vertical-align: top;\n",
       "    }\n",
       "\n",
       "    .dataframe thead th {\n",
       "        text-align: right;\n",
       "    }\n",
       "</style>\n",
       "<table border=\"1\" class=\"dataframe\">\n",
       "  <thead>\n",
       "    <tr style=\"text-align: right;\">\n",
       "      <th></th>\n",
       "      <th>Age</th>\n",
       "      <th>Shape</th>\n",
       "      <th>Margin</th>\n",
       "      <th>Density</th>\n",
       "      <th>Severity</th>\n",
       "    </tr>\n",
       "  </thead>\n",
       "  <tbody>\n",
       "    <tr>\n",
       "      <th>0</th>\n",
       "      <td>67</td>\n",
       "      <td>3</td>\n",
       "      <td>5</td>\n",
       "      <td>3</td>\n",
       "      <td>1</td>\n",
       "    </tr>\n",
       "    <tr>\n",
       "      <th>1</th>\n",
       "      <td>58</td>\n",
       "      <td>4</td>\n",
       "      <td>5</td>\n",
       "      <td>3</td>\n",
       "      <td>1</td>\n",
       "    </tr>\n",
       "    <tr>\n",
       "      <th>2</th>\n",
       "      <td>28</td>\n",
       "      <td>1</td>\n",
       "      <td>1</td>\n",
       "      <td>3</td>\n",
       "      <td>0</td>\n",
       "    </tr>\n",
       "    <tr>\n",
       "      <th>3</th>\n",
       "      <td>57</td>\n",
       "      <td>1</td>\n",
       "      <td>5</td>\n",
       "      <td>3</td>\n",
       "      <td>1</td>\n",
       "    </tr>\n",
       "    <tr>\n",
       "      <th>4</th>\n",
       "      <td>76</td>\n",
       "      <td>1</td>\n",
       "      <td>4</td>\n",
       "      <td>3</td>\n",
       "      <td>1</td>\n",
       "    </tr>\n",
       "    <tr>\n",
       "      <th>5</th>\n",
       "      <td>42</td>\n",
       "      <td>2</td>\n",
       "      <td>1</td>\n",
       "      <td>3</td>\n",
       "      <td>1</td>\n",
       "    </tr>\n",
       "    <tr>\n",
       "      <th>6</th>\n",
       "      <td>36</td>\n",
       "      <td>3</td>\n",
       "      <td>1</td>\n",
       "      <td>2</td>\n",
       "      <td>0</td>\n",
       "    </tr>\n",
       "    <tr>\n",
       "      <th>7</th>\n",
       "      <td>60</td>\n",
       "      <td>2</td>\n",
       "      <td>1</td>\n",
       "      <td>2</td>\n",
       "      <td>0</td>\n",
       "    </tr>\n",
       "    <tr>\n",
       "      <th>8</th>\n",
       "      <td>54</td>\n",
       "      <td>1</td>\n",
       "      <td>1</td>\n",
       "      <td>3</td>\n",
       "      <td>0</td>\n",
       "    </tr>\n",
       "    <tr>\n",
       "      <th>9</th>\n",
       "      <td>52</td>\n",
       "      <td>3</td>\n",
       "      <td>4</td>\n",
       "      <td>3</td>\n",
       "      <td>0</td>\n",
       "    </tr>\n",
       "  </tbody>\n",
       "</table>\n",
       "</div>"
      ],
      "text/plain": [
       "   Age  Shape  Margin  Density  Severity\n",
       "0   67      3       5        3         1\n",
       "1   58      4       5        3         1\n",
       "2   28      1       1        3         0\n",
       "3   57      1       5        3         1\n",
       "4   76      1       4        3         1\n",
       "5   42      2       1        3         1\n",
       "6   36      3       1        2         0\n",
       "7   60      2       1        2         0\n",
       "8   54      1       1        3         0\n",
       "9   52      3       4        3         0"
      ]
     },
     "execution_count": 23,
     "metadata": {},
     "output_type": "execute_result"
    }
   ],
   "source": [
    "mammographic_masses.head(10)"
   ]
  },
  {
   "cell_type": "code",
   "execution_count": 4,
   "metadata": {},
   "outputs": [
    {
     "data": {
      "text/html": [
       "<div>\n",
       "<style scoped>\n",
       "    .dataframe tbody tr th:only-of-type {\n",
       "        vertical-align: middle;\n",
       "    }\n",
       "\n",
       "    .dataframe tbody tr th {\n",
       "        vertical-align: top;\n",
       "    }\n",
       "\n",
       "    .dataframe thead th {\n",
       "        text-align: right;\n",
       "    }\n",
       "</style>\n",
       "<table border=\"1\" class=\"dataframe\">\n",
       "  <thead>\n",
       "    <tr style=\"text-align: right;\">\n",
       "      <th></th>\n",
       "      <th>Age</th>\n",
       "      <th>Shape</th>\n",
       "      <th>Margin</th>\n",
       "      <th>Density</th>\n",
       "      <th>Severity</th>\n",
       "    </tr>\n",
       "  </thead>\n",
       "  <tbody>\n",
       "    <tr>\n",
       "      <th>count</th>\n",
       "      <td>831.000000</td>\n",
       "      <td>831.000000</td>\n",
       "      <td>831.000000</td>\n",
       "      <td>831.000000</td>\n",
       "      <td>831.000000</td>\n",
       "    </tr>\n",
       "    <tr>\n",
       "      <th>mean</th>\n",
       "      <td>55.777377</td>\n",
       "      <td>2.783394</td>\n",
       "      <td>2.814681</td>\n",
       "      <td>2.915764</td>\n",
       "      <td>0.484958</td>\n",
       "    </tr>\n",
       "    <tr>\n",
       "      <th>std</th>\n",
       "      <td>14.663528</td>\n",
       "      <td>1.242331</td>\n",
       "      <td>1.566771</td>\n",
       "      <td>0.350737</td>\n",
       "      <td>0.500075</td>\n",
       "    </tr>\n",
       "    <tr>\n",
       "      <th>min</th>\n",
       "      <td>18.000000</td>\n",
       "      <td>1.000000</td>\n",
       "      <td>1.000000</td>\n",
       "      <td>1.000000</td>\n",
       "      <td>0.000000</td>\n",
       "    </tr>\n",
       "    <tr>\n",
       "      <th>25%</th>\n",
       "      <td>46.000000</td>\n",
       "      <td>2.000000</td>\n",
       "      <td>1.000000</td>\n",
       "      <td>3.000000</td>\n",
       "      <td>0.000000</td>\n",
       "    </tr>\n",
       "    <tr>\n",
       "      <th>50%</th>\n",
       "      <td>57.000000</td>\n",
       "      <td>3.000000</td>\n",
       "      <td>3.000000</td>\n",
       "      <td>3.000000</td>\n",
       "      <td>0.000000</td>\n",
       "    </tr>\n",
       "    <tr>\n",
       "      <th>75%</th>\n",
       "      <td>66.000000</td>\n",
       "      <td>4.000000</td>\n",
       "      <td>4.000000</td>\n",
       "      <td>3.000000</td>\n",
       "      <td>1.000000</td>\n",
       "    </tr>\n",
       "    <tr>\n",
       "      <th>max</th>\n",
       "      <td>96.000000</td>\n",
       "      <td>4.000000</td>\n",
       "      <td>5.000000</td>\n",
       "      <td>4.000000</td>\n",
       "      <td>1.000000</td>\n",
       "    </tr>\n",
       "  </tbody>\n",
       "</table>\n",
       "</div>"
      ],
      "text/plain": [
       "              Age       Shape      Margin     Density    Severity\n",
       "count  831.000000  831.000000  831.000000  831.000000  831.000000\n",
       "mean    55.777377    2.783394    2.814681    2.915764    0.484958\n",
       "std     14.663528    1.242331    1.566771    0.350737    0.500075\n",
       "min     18.000000    1.000000    1.000000    1.000000    0.000000\n",
       "25%     46.000000    2.000000    1.000000    3.000000    0.000000\n",
       "50%     57.000000    3.000000    3.000000    3.000000    0.000000\n",
       "75%     66.000000    4.000000    4.000000    3.000000    1.000000\n",
       "max     96.000000    4.000000    5.000000    4.000000    1.000000"
      ]
     },
     "execution_count": 4,
     "metadata": {},
     "output_type": "execute_result"
    }
   ],
   "source": [
    "mammographic_masses.describe()"
   ]
  },
  {
   "cell_type": "code",
   "execution_count": 5,
   "metadata": {},
   "outputs": [
    {
     "name": "stdout",
     "output_type": "stream",
     "text": [
      "<class 'pandas.core.frame.DataFrame'>\n",
      "RangeIndex: 831 entries, 0 to 830\n",
      "Data columns (total 5 columns):\n",
      "Age         831 non-null int64\n",
      "Shape       831 non-null int64\n",
      "Margin      831 non-null int64\n",
      "Density     831 non-null int64\n",
      "Severity    831 non-null int64\n",
      "dtypes: int64(5)\n",
      "memory usage: 32.5 KB\n"
     ]
    }
   ],
   "source": [
    "mammographic_masses.info()"
   ]
  },
  {
   "cell_type": "markdown",
   "metadata": {},
   "source": [
    "## Construyendo las matrices\n",
    "Creamos una **matriz X** con los datos de características (Age, Shape, Margin, Density) y otra **matriz y** con la variable objetivo Severity"
   ]
  },
  {
   "cell_type": "code",
   "execution_count": 6,
   "metadata": {},
   "outputs": [
    {
     "data": {
      "text/plain": [
       "array([[67,  3,  5,  3],\n",
       "       [58,  4,  5,  3],\n",
       "       [28,  1,  1,  3],\n",
       "       ...,\n",
       "       [64,  4,  5,  3],\n",
       "       [66,  4,  5,  3],\n",
       "       [62,  3,  3,  3]], dtype=int64)"
      ]
     },
     "execution_count": 6,
     "metadata": {},
     "output_type": "execute_result"
    }
   ],
   "source": [
    "X = mammographic_masses.iloc[:,0:4].values\n",
    "y = mammographic_masses.iloc[:,4].values\n",
    "X"
   ]
  },
  {
   "cell_type": "markdown",
   "metadata": {},
   "source": [
    "## División en conjunto de entrenamiento y prueba\n",
    "Reservamos el 75% de los datos para entrenamiento y 25% para pruebas"
   ]
  },
  {
   "cell_type": "code",
   "execution_count": 7,
   "metadata": {},
   "outputs": [],
   "source": [
    "from sklearn.model_selection import train_test_split\n",
    "X_train, X_test, y_train, y_test = train_test_split(X, y, test_size = 0.25)"
   ]
  },
  {
   "cell_type": "markdown",
   "metadata": {},
   "source": [
    "## Estandarización de las variables\n",
    "StandardScaler es una función de ScikitLearn que nos ayuda a escalar nuestros datos."
   ]
  },
  {
   "cell_type": "code",
   "execution_count": 9,
   "metadata": {},
   "outputs": [],
   "source": [
    "from sklearn.preprocessing import StandardScaler\n",
    "sc = StandardScaler()\n",
    "X_train = sc.fit_transform(X_train)\n",
    "X_test = sc.transform(X_test)"
   ]
  },
  {
   "cell_type": "markdown",
   "metadata": {},
   "source": [
    "## Construyendo la red neuronal\n",
    "Importamos Keras que es la librería que nos ayuda a crear redes neuronales. Usaremos el modulo Sequential para inicializar la red y el modelo Dense para añadir capas ocultas."
   ]
  },
  {
   "cell_type": "code",
   "execution_count": 10,
   "metadata": {},
   "outputs": [
    {
     "name": "stderr",
     "output_type": "stream",
     "text": [
      "Using TensorFlow backend.\n"
     ]
    }
   ],
   "source": [
    "import keras\n",
    "from keras.models import Sequential\n",
    "from keras.layers import Dense"
   ]
  },
  {
   "cell_type": "code",
   "execution_count": 11,
   "metadata": {},
   "outputs": [],
   "source": [
    "classifier = Sequential()"
   ]
  },
  {
   "cell_type": "markdown",
   "metadata": {},
   "source": [
    "Añadiremos las capas ocultas utilizando la función Dense. A continuación una breve descripción de los parámetros:\n",
    "* **output_dim**: es el número de nodos que queremos añadir a la capa.\n",
    "* **init**: inicialización del descenso de gradiente estocástico, los pesos iniciales serán una variable aleatoria uniforme.\n",
    "* **input_dim**: indica el número de variables que va a recibir (en este caso 4), solo es necesaria en la primera capa.\n",
    "* **activation**: cada neurona aplica una función de activación a la suma ponderada de los inputs. Mientras más cercano a 1 sea el valor de esta función la neurona estará más activada y pasará más señal de interacción."
   ]
  },
  {
   "cell_type": "code",
   "execution_count": 12,
   "metadata": {},
   "outputs": [
    {
     "name": "stderr",
     "output_type": "stream",
     "text": [
      "C:\\Users\\CHRISTIAN\\Anaconda3\\lib\\site-packages\\ipykernel_launcher.py:1: UserWarning: Update your `Dense` call to the Keras 2 API: `Dense(activation=\"relu\", input_dim=4, units=6, kernel_initializer=\"uniform\")`\n",
      "  \"\"\"Entry point for launching an IPython kernel.\n",
      "C:\\Users\\CHRISTIAN\\Anaconda3\\lib\\site-packages\\ipykernel_launcher.py:2: UserWarning: Update your `Dense` call to the Keras 2 API: `Dense(activation=\"relu\", units=6, kernel_initializer=\"uniform\")`\n",
      "  \n",
      "C:\\Users\\CHRISTIAN\\Anaconda3\\lib\\site-packages\\ipykernel_launcher.py:3: UserWarning: Update your `Dense` call to the Keras 2 API: `Dense(activation=\"sigmoid\", units=1, kernel_initializer=\"uniform\")`\n",
      "  This is separate from the ipykernel package so we can avoid doing imports until\n"
     ]
    }
   ],
   "source": [
    "classifier.add(Dense(output_dim = 6, init = 'uniform', activation = 'relu', input_dim = 4))\n",
    "classifier.add(Dense(output_dim = 6, init = 'uniform', activation = 'relu'))\n",
    "classifier.add(Dense(output_dim = 1, init = 'uniform', activation = 'sigmoid'))"
   ]
  },
  {
   "cell_type": "markdown",
   "metadata": {},
   "source": [
    "Ahora teniendo todas las capas de nuestra red neuronal pasaremos a compilarla usando la función compile.\n",
    "* **optimizer**: nos indica el método que utilizaremos para seleccionar los pesos óptimos para la red. Usaremos Adam que es un un tipo algoritmo de Descenso de Gradiente Estocástico.\n",
    "* **loss**: usa la función ‘binary_crossentropy’ que nos sirve para clasificar en 2 categorias.\n",
    "* **metrics**: mide el desempeño de nuestra red neuronal"
   ]
  },
  {
   "cell_type": "code",
   "execution_count": 13,
   "metadata": {},
   "outputs": [],
   "source": [
    "classifier.compile(optimizer = 'adam', loss = 'binary_crossentropy', metrics = ['accuracy'])"
   ]
  },
  {
   "cell_type": "markdown",
   "metadata": {},
   "source": [
    "Hemos creado nuestra red neuronal. Ahora entrenaremos el modelo. Usamos la función fit para buscar los pesos optimos de la red.\n",
    "* **batch_size**: sirve para especificar el número de observaciones que la red necesita entrenar antes de actualizar los pesos.\n",
    "* **nb_epoch**: indica el número de iteraciones que realizaremos. "
   ]
  },
  {
   "cell_type": "code",
   "execution_count": 14,
   "metadata": {},
   "outputs": [
    {
     "name": "stderr",
     "output_type": "stream",
     "text": [
      "C:\\Users\\CHRISTIAN\\Anaconda3\\lib\\site-packages\\ipykernel_launcher.py:1: UserWarning: The `nb_epoch` argument in `fit` has been renamed `epochs`.\n",
      "  \"\"\"Entry point for launching an IPython kernel.\n"
     ]
    },
    {
     "name": "stdout",
     "output_type": "stream",
     "text": [
      "Epoch 1/100\n",
      "623/623 [==============================] - 3s 5ms/step - loss: 0.6925 - acc: 0.5730\n",
      "Epoch 2/100\n",
      "623/623 [==============================] - 0s 96us/step - loss: 0.6782 - acc: 0.6918\n",
      "Epoch 3/100\n",
      "623/623 [==============================] - 0s 109us/step - loss: 0.6182 - acc: 0.7994\n",
      "Epoch 4/100\n",
      "623/623 [==============================] - 0s 112us/step - loss: 0.5406 - acc: 0.7945\n",
      "Epoch 5/100\n",
      "623/623 [==============================] - 0s 104us/step - loss: 0.4936 - acc: 0.8058\n",
      "Epoch 6/100\n",
      "623/623 [==============================] - 0s 106us/step - loss: 0.4674 - acc: 0.8058\n",
      "Epoch 7/100\n",
      "623/623 [==============================] - 0s 104us/step - loss: 0.4553 - acc: 0.8074\n",
      "Epoch 8/100\n",
      "623/623 [==============================] - 0s 119us/step - loss: 0.4504 - acc: 0.8058\n",
      "Epoch 9/100\n",
      "623/623 [==============================] - 0s 116us/step - loss: 0.4476 - acc: 0.8026\n",
      "Epoch 10/100\n",
      "623/623 [==============================] - 0s 111us/step - loss: 0.4462 - acc: 0.8026\n",
      "Epoch 11/100\n",
      "623/623 [==============================] - 0s 111us/step - loss: 0.4451 - acc: 0.8042\n",
      "Epoch 12/100\n",
      "623/623 [==============================] - 0s 114us/step - loss: 0.4444 - acc: 0.8058\n",
      "Epoch 13/100\n",
      "623/623 [==============================] - 0s 130us/step - loss: 0.4436 - acc: 0.8058\n",
      "Epoch 14/100\n",
      "623/623 [==============================] - 0s 114us/step - loss: 0.4428 - acc: 0.8058\n",
      "Epoch 15/100\n",
      "623/623 [==============================] - 0s 114us/step - loss: 0.4423 - acc: 0.8074\n",
      "Epoch 16/100\n",
      "623/623 [==============================] - 0s 161us/step - loss: 0.4411 - acc: 0.8058\n",
      "Epoch 17/100\n",
      "623/623 [==============================] - 0s 119us/step - loss: 0.4410 - acc: 0.8058\n",
      "Epoch 18/100\n",
      "623/623 [==============================] - 0s 140us/step - loss: 0.4403 - acc: 0.8042\n",
      "Epoch 19/100\n",
      "623/623 [==============================] - 0s 209us/step - loss: 0.4407 - acc: 0.8074\n",
      "Epoch 20/100\n",
      "623/623 [==============================] - 0s 191us/step - loss: 0.4405 - acc: 0.8010 0s - loss: 0.4574 - acc: 0.78\n",
      "Epoch 21/100\n",
      "623/623 [==============================] - 0s 141us/step - loss: 0.4397 - acc: 0.8090\n",
      "Epoch 22/100\n",
      "623/623 [==============================] - 0s 149us/step - loss: 0.4396 - acc: 0.8058\n",
      "Epoch 23/100\n",
      "623/623 [==============================] - 0s 120us/step - loss: 0.4393 - acc: 0.8042\n",
      "Epoch 24/100\n",
      "623/623 [==============================] - 0s 156us/step - loss: 0.4397 - acc: 0.8058\n",
      "Epoch 25/100\n",
      "623/623 [==============================] - 0s 183us/step - loss: 0.4388 - acc: 0.8058\n",
      "Epoch 26/100\n",
      "623/623 [==============================] - 0s 148us/step - loss: 0.4392 - acc: 0.8058\n",
      "Epoch 27/100\n",
      "623/623 [==============================] - 0s 148us/step - loss: 0.4394 - acc: 0.8074\n",
      "Epoch 28/100\n",
      "623/623 [==============================] - 0s 127us/step - loss: 0.4392 - acc: 0.8074\n",
      "Epoch 29/100\n",
      "623/623 [==============================] - 0s 184us/step - loss: 0.4389 - acc: 0.8058\n",
      "Epoch 30/100\n",
      "623/623 [==============================] - 0s 178us/step - loss: 0.4389 - acc: 0.8074\n",
      "Epoch 31/100\n",
      "623/623 [==============================] - 0s 204us/step - loss: 0.4388 - acc: 0.8042\n",
      "Epoch 32/100\n",
      "623/623 [==============================] - 0s 191us/step - loss: 0.4393 - acc: 0.8058\n",
      "Epoch 33/100\n",
      "623/623 [==============================] - 0s 144us/step - loss: 0.4386 - acc: 0.8058\n",
      "Epoch 34/100\n",
      "623/623 [==============================] - 0s 156us/step - loss: 0.4388 - acc: 0.8058\n",
      "Epoch 35/100\n",
      "623/623 [==============================] - 0s 151us/step - loss: 0.4383 - acc: 0.8074\n",
      "Epoch 36/100\n",
      "623/623 [==============================] - 0s 160us/step - loss: 0.4380 - acc: 0.8042\n",
      "Epoch 37/100\n",
      "623/623 [==============================] - 0s 181us/step - loss: 0.4382 - acc: 0.8042 0s - loss: 0.4610 - acc: 0.78\n",
      "Epoch 38/100\n",
      "623/623 [==============================] - 0s 148us/step - loss: 0.4385 - acc: 0.8090\n",
      "Epoch 39/100\n",
      "623/623 [==============================] - 0s 124us/step - loss: 0.4386 - acc: 0.8042\n",
      "Epoch 40/100\n",
      "623/623 [==============================] - 0s 103us/step - loss: 0.4387 - acc: 0.8042\n",
      "Epoch 41/100\n",
      "623/623 [==============================] - 0s 106us/step - loss: 0.4382 - acc: 0.8042\n",
      "Epoch 42/100\n",
      "623/623 [==============================] - 0s 124us/step - loss: 0.4380 - acc: 0.8042\n",
      "Epoch 43/100\n",
      "623/623 [==============================] - 0s 168us/step - loss: 0.4378 - acc: 0.8090\n",
      "Epoch 44/100\n",
      "623/623 [==============================] - 0s 178us/step - loss: 0.4386 - acc: 0.8042\n",
      "Epoch 45/100\n",
      "623/623 [==============================] - 0s 167us/step - loss: 0.4377 - acc: 0.8058\n",
      "Epoch 46/100\n",
      "623/623 [==============================] - 0s 138us/step - loss: 0.4375 - acc: 0.8042\n",
      "Epoch 47/100\n",
      "623/623 [==============================] - 0s 151us/step - loss: 0.4375 - acc: 0.8058\n",
      "Epoch 48/100\n",
      "623/623 [==============================] - 0s 204us/step - loss: 0.4373 - acc: 0.8058\n",
      "Epoch 49/100\n",
      "623/623 [==============================] - 0s 165us/step - loss: 0.4374 - acc: 0.8042\n",
      "Epoch 50/100\n",
      "623/623 [==============================] - 0s 141us/step - loss: 0.4372 - acc: 0.8074\n",
      "Epoch 51/100\n",
      "623/623 [==============================] - 0s 135us/step - loss: 0.4371 - acc: 0.8058\n",
      "Epoch 52/100\n",
      "623/623 [==============================] - ETA: 0s - loss: 0.4274 - acc: 0.810 - 0s 104us/step - loss: 0.4371 - acc: 0.8042\n",
      "Epoch 53/100\n",
      "623/623 [==============================] - 0s 116us/step - loss: 0.4379 - acc: 0.8058\n",
      "Epoch 54/100\n",
      "623/623 [==============================] - 0s 133us/step - loss: 0.4367 - acc: 0.8058\n",
      "Epoch 55/100\n",
      "623/623 [==============================] - 0s 117us/step - loss: 0.4374 - acc: 0.8042\n",
      "Epoch 56/100\n",
      "623/623 [==============================] - 0s 120us/step - loss: 0.4364 - acc: 0.8042\n",
      "Epoch 57/100\n",
      "623/623 [==============================] - 0s 128us/step - loss: 0.4367 - acc: 0.8042\n",
      "Epoch 58/100\n",
      "623/623 [==============================] - 0s 114us/step - loss: 0.4365 - acc: 0.8042\n",
      "Epoch 59/100\n",
      "623/623 [==============================] - 0s 130us/step - loss: 0.4376 - acc: 0.8042\n",
      "Epoch 60/100\n",
      "623/623 [==============================] - 0s 127us/step - loss: 0.4371 - acc: 0.8074\n",
      "Epoch 61/100\n",
      "623/623 [==============================] - 0s 114us/step - loss: 0.4361 - acc: 0.8042\n",
      "Epoch 62/100\n",
      "623/623 [==============================] - 0s 140us/step - loss: 0.4365 - acc: 0.8042\n",
      "Epoch 63/100\n",
      "623/623 [==============================] - 0s 114us/step - loss: 0.4364 - acc: 0.8058\n",
      "Epoch 64/100\n",
      "623/623 [==============================] - 0s 109us/step - loss: 0.4358 - acc: 0.8042\n",
      "Epoch 65/100\n",
      "623/623 [==============================] - 0s 196us/step - loss: 0.4368 - acc: 0.8042\n",
      "Epoch 66/100\n",
      "623/623 [==============================] - 0s 144us/step - loss: 0.4362 - acc: 0.8042 0s - loss: 0.4198 - acc: 0.812\n",
      "Epoch 67/100\n",
      "623/623 [==============================] - 0s 225us/step - loss: 0.4359 - acc: 0.8074\n",
      "Epoch 68/100\n",
      "623/623 [==============================] - 0s 209us/step - loss: 0.4356 - acc: 0.8042\n",
      "Epoch 69/100\n",
      "623/623 [==============================] - 0s 146us/step - loss: 0.4353 - acc: 0.8042\n",
      "Epoch 70/100\n",
      "623/623 [==============================] - 0s 181us/step - loss: 0.4359 - acc: 0.8074\n",
      "Epoch 71/100\n",
      "623/623 [==============================] - 0s 132us/step - loss: 0.4369 - acc: 0.8042\n",
      "Epoch 72/100\n",
      "623/623 [==============================] - 0s 98us/step - loss: 0.4358 - acc: 0.8026\n",
      "Epoch 73/100\n",
      "623/623 [==============================] - 0s 95us/step - loss: 0.4358 - acc: 0.8058\n",
      "Epoch 74/100\n",
      "623/623 [==============================] - 0s 98us/step - loss: 0.4345 - acc: 0.8074\n",
      "Epoch 75/100\n",
      "623/623 [==============================] - 0s 101us/step - loss: 0.4346 - acc: 0.8042\n",
      "Epoch 76/100\n",
      "623/623 [==============================] - 0s 96us/step - loss: 0.4348 - acc: 0.8058\n",
      "Epoch 77/100\n",
      "623/623 [==============================] - 0s 124us/step - loss: 0.4348 - acc: 0.8090\n",
      "Epoch 78/100\n",
      "623/623 [==============================] - 0s 165us/step - loss: 0.4347 - acc: 0.8074\n",
      "Epoch 79/100\n",
      "623/623 [==============================] - 0s 168us/step - loss: 0.4345 - acc: 0.8026\n",
      "Epoch 80/100\n",
      "623/623 [==============================] - 0s 165us/step - loss: 0.4344 - acc: 0.8074\n",
      "Epoch 81/100\n",
      "623/623 [==============================] - 0s 133us/step - loss: 0.4340 - acc: 0.8042\n",
      "Epoch 82/100\n",
      "623/623 [==============================] - 0s 106us/step - loss: 0.4338 - acc: 0.8058\n",
      "Epoch 83/100\n",
      "623/623 [==============================] - 0s 106us/step - loss: 0.4342 - acc: 0.8026\n",
      "Epoch 84/100\n",
      "623/623 [==============================] - 0s 109us/step - loss: 0.4342 - acc: 0.8074\n",
      "Epoch 85/100\n",
      "623/623 [==============================] - 0s 104us/step - loss: 0.4338 - acc: 0.8090\n",
      "Epoch 86/100\n",
      "623/623 [==============================] - 0s 93us/step - loss: 0.4342 - acc: 0.8090\n",
      "Epoch 87/100\n",
      "623/623 [==============================] - 0s 104us/step - loss: 0.4333 - acc: 0.8090\n",
      "Epoch 88/100\n",
      "623/623 [==============================] - 0s 98us/step - loss: 0.4334 - acc: 0.8106\n",
      "Epoch 89/100\n",
      "623/623 [==============================] - 0s 101us/step - loss: 0.4331 - acc: 0.8090\n",
      "Epoch 90/100\n",
      "623/623 [==============================] - 0s 107us/step - loss: 0.4331 - acc: 0.8122\n",
      "Epoch 91/100\n",
      "623/623 [==============================] - 0s 101us/step - loss: 0.4335 - acc: 0.8106\n",
      "Epoch 92/100\n",
      "623/623 [==============================] - 0s 114us/step - loss: 0.4332 - acc: 0.8074\n",
      "Epoch 93/100\n",
      "623/623 [==============================] - 0s 98us/step - loss: 0.4335 - acc: 0.8058\n",
      "Epoch 94/100\n",
      "623/623 [==============================] - 0s 91us/step - loss: 0.4331 - acc: 0.8074\n",
      "Epoch 95/100\n",
      "623/623 [==============================] - 0s 98us/step - loss: 0.4335 - acc: 0.8090\n",
      "Epoch 96/100\n",
      "623/623 [==============================] - 0s 117us/step - loss: 0.4334 - acc: 0.8074\n",
      "Epoch 97/100\n",
      "623/623 [==============================] - 0s 101us/step - loss: 0.4331 - acc: 0.8090\n",
      "Epoch 98/100\n",
      "623/623 [==============================] - 0s 95us/step - loss: 0.4341 - acc: 0.8090\n",
      "Epoch 99/100\n",
      "623/623 [==============================] - 0s 107us/step - loss: 0.4324 - acc: 0.8074\n",
      "Epoch 100/100\n",
      "623/623 [==============================] - 0s 101us/step - loss: 0.4329 - acc: 0.8090\n"
     ]
    },
    {
     "data": {
      "text/plain": [
       "<keras.callbacks.History at 0x22f36bca4a8>"
      ]
     },
     "execution_count": 14,
     "metadata": {},
     "output_type": "execute_result"
    }
   ],
   "source": [
    "classifier.fit(X_train, y_train, batch_size = 10, nb_epoch = 100)"
   ]
  },
  {
   "cell_type": "markdown",
   "metadata": {},
   "source": [
    "La predicción nos dará la probabilidad de pertenecer a un grupo u otro. Convertiremos esta probabilidad en 0 para las probabilidades menores que 0.5 y 1 para las mayores."
   ]
  },
  {
   "cell_type": "code",
   "execution_count": 21,
   "metadata": {},
   "outputs": [],
   "source": [
    "y_pred = classifier.predict(X_test)\n",
    "y_pred = (y_pred > 0.5)"
   ]
  },
  {
   "cell_type": "markdown",
   "metadata": {},
   "source": [
    "## Evaluación"
   ]
  },
  {
   "cell_type": "code",
   "execution_count": 26,
   "metadata": {},
   "outputs": [
    {
     "name": "stdout",
     "output_type": "stream",
     "text": [
      "[[86 25]\n",
      " [15 82]]\n"
     ]
    }
   ],
   "source": [
    "from sklearn.metrics import classification_report, confusion_matrix\n",
    "cm = confusion_matrix(y_test, y_pred)\n",
    "print(cm)"
   ]
  },
  {
   "cell_type": "code",
   "execution_count": 27,
   "metadata": {},
   "outputs": [
    {
     "name": "stdout",
     "output_type": "stream",
     "text": [
      "              precision    recall  f1-score   support\n",
      "\n",
      "           0       0.85      0.77      0.81       111\n",
      "           1       0.77      0.85      0.80        97\n",
      "\n",
      "   micro avg       0.81      0.81      0.81       208\n",
      "   macro avg       0.81      0.81      0.81       208\n",
      "weighted avg       0.81      0.81      0.81       208\n",
      "\n"
     ]
    }
   ],
   "source": [
    "print(classification_report(y_test, y_pred))"
   ]
  }
 ],
 "metadata": {
  "kernelspec": {
   "display_name": "Python 3",
   "language": "python",
   "name": "python3"
  },
  "language_info": {
   "codemirror_mode": {
    "name": "ipython",
    "version": 3
   },
   "file_extension": ".py",
   "mimetype": "text/x-python",
   "name": "python",
   "nbconvert_exporter": "python",
   "pygments_lexer": "ipython3",
   "version": "3.7.1"
  }
 },
 "nbformat": 4,
 "nbformat_minor": 2
}
